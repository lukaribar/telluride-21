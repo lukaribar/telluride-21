{
 "cells": [
  {
   "cell_type": "markdown",
   "metadata": {},
   "source": [
    "# Designing neuronal networks\n",
    "\n",
    "## Overview\n",
    "\n",
    "This notebook provides a guide to specyfing neural interconnections and designing networks using Hodgkin-Huxley and NeuroDyn models in Python environment."
   ]
  },
  {
   "cell_type": "markdown",
   "metadata": {},
   "source": [
    "## Setting up the environment\n",
    "\n",
    "Let's first import the required Python modules and model definitions:"
   ]
  },
  {
   "cell_type": "code",
   "execution_count": 20,
   "metadata": {},
   "outputs": [
    {
     "name": "stdout",
     "output_type": "stream",
     "text": [
      "The autoreload extension is already loaded. To reload it, use:\n",
      "  %reload_ext autoreload\n"
     ]
    }
   ],
   "source": [
    "import matplotlib.pyplot as plt\n",
    "from cb_models import HHModel, NeuroDynModel, NeuronalNetwork, Synapse, AMPA, AMPASynapse\n",
    "\n",
    "# **Ignore overflow warnings**\n",
    "import numpy as np\n",
    "np.warnings.filterwarnings('ignore', 'overflow')\n",
    "\n",
    "%matplotlib inline\n",
    "%load_ext autoreload\n",
    "%autoreload 2"
   ]
  },
  {
   "cell_type": "markdown",
   "metadata": {},
   "source": [
    "## Neural interconnections\n",
    "\n",
    "There are two main types of neural interconnections that we can implement: gap junctions and synaptic connections. In the conductance-based modelling framework, these interconnections lead to additional currents in the membrane equation of neuron $i$ that are dependent on membrane voltages of other neurons $j$ connected to it:\n",
    "\n",
    "\\begin{equation}\n",
    "C \\dot{V}_i = - I_{int,i} - \\sum_{j} I_{gap, i, j} - \\sum_{j} I_{syn, i, j} + I_{app}\n",
    "\\end{equation}\n",
    "\n",
    "### Gap junctions\n",
    "\n",
    "Gap junctions are modeled as simple resistive connections between neurons, so that a resistive connection between neurons $i$ and $j$ leads to a current in neuron $i$:\n",
    "\n",
    "\\begin{equation}\n",
    "I_{gap, i, j} = g_{gap, i, j} (V_i - V_j)\n",
    "\\end{equation}\n",
    "\n",
    "Since these interconnections are symmetric $g_{gap, i, j} = g_{gap, j, i}$, so that:\n",
    "\n",
    "\\begin{equation}\n",
    "I_{gap, j, i} = -I_{gap, i, j}\n",
    "\\end{equation}\n",
    "\n",
    "We can represent this as a matrix $G_{gap}$ where each element $g_{gap, i, j}$ is the conductance of the connection between neurons $i$ and $j$. This matrix is necessarily symmetric, i.e. $G_{gap} = G^T_{gap}$.\n",
    "\n",
    "### Synaptic connections\n",
    "\n",
    "Unlike gap junctions, synaptic connections are directed connections and are not symmetric: the activity of the *presynaptic* neuron (neuron $j$) modulates the activity of the *postsynaptic* neuron (neuron $i$). Synaptic currents have a similar form to the internal ionic currents, with the difference that their activation depends on the presynaptic neuron:\n",
    "\n",
    "\\begin{equation}\n",
    "I_{syn, i, j} = \\bar{g}_{syn, i, j} r (V_i - E_{syn}) \\\\\n",
    "\\dot{r} = \\alpha_r(V_j) (1 - r) - \\beta_r{V_i} r\n",
    "\\end{equation}\n",
    "\n",
    "The opening of the channels $\\alpha_r$ depends on the presynaptic neuron's voltage $V_j$, while the closing depends on the postsynaptic neuron's voltage $V_i$ (sometimes this relationship is modeled as constant).\n",
    "\n",
    "The reversal potential of the synapse $E_{syn}$ determines if the synapse is *excitatory* or *inhibitory*: excitatory synapses tend to increase the postsynaptic neuron's voltage, while the inhibitory synapses act to decrease the postynaptic voltage. On the other hand, dynamics of activation $r$ determines the timescale of the synaptic current, i.e. how fast it activates in relation to the changes in the presynaptic neuron."
   ]
  },
  {
   "cell_type": "markdown",
   "metadata": {},
   "source": [
    "## Defining neural interconnections in Python\n",
    "\n",
    "Let's now see how we can define these interconnections in the Python environment. We start with a simple example of two Hodgkin-Huxley neurons, which define as before:"
   ]
  },
  {
   "cell_type": "code",
   "execution_count": 3,
   "metadata": {},
   "outputs": [],
   "source": [
    "neuron1 = HHModel()\n",
    "neuron2 = HHModel()"
   ]
  },
  {
   "cell_type": "markdown",
   "metadata": {},
   "source": [
    "### Gap junctions\n",
    "\n",
    "Let's start with a simple network consisting of a single gap junction between these two neurons with $g_{gap} = 0.1$. We do this by defining the matrix `G_gap` and passing it as a keyword argument along with a list of the neurons to our `NeuronalNetwork` class:"
   ]
  },
  {
   "cell_type": "code",
   "execution_count": 10,
   "metadata": {},
   "outputs": [],
   "source": [
    "neurons = [neuron1, neuron2]\n",
    "G_gap = [[0, 0.1], [0.1, 0]]\n",
    "\n",
    "network = NeuronalNetwork(neurons, gap = G_gap)"
   ]
  },
  {
   "cell_type": "markdown",
   "metadata": {},
   "source": [
    "We simulate the network exactly as before by calling the method `simulate`. This time, the applied current function needs to return an array of external currents corresponding to each neuron in the `neurons` list. Additionally, we need to make sure that the initial condition array `x0` has the right number of states:"
   ]
  },
  {
   "cell_type": "code",
   "execution_count": 19,
   "metadata": {},
   "outputs": [
    {
     "data": {
      "image/png": "[encoded data removed]",
      "text/plain": [
       "<Figure size 432x288 with 1 Axes>"
      ]
     },
     "metadata": {
      "needs_background": "light"
     },
     "output_type": "display_data"
    }
   ],
   "source": [
    "# Simulation time\n",
    "T = 200\n",
    "trange = (0, T)\n",
    "\n",
    "# External current\n",
    "I1 = 0 # current to neuron 1\n",
    "I2 = 0 # current to neuron 2\n",
    "Iapp = lambda t: [I1, I2]\n",
    "\n",
    "# Initial condition\n",
    "x0 = [0, 0, 0, 0] * 2\n",
    "\n",
    "# Simulate\n",
    "sol = network.simulate(trange, x0, Iapp)\n",
    "V1 = sol.y[0]\n",
    "V2 = sol.y[4]\n",
    "\n",
    "plt.figure()\n",
    "plt.plot(sol.t, V1, label = \"Neuron 1\")\n",
    "plt.plot(sol.t, V2, label = \"Neuron 2\")\n",
    "plt.legend()\n",
    "plt.show()\n"
   ]
  },
  {
   "cell_type": "markdown",
   "metadata": {},
   "source": [
    "### Synaptic connections\n",
    "\n",
    "Let's now see how we can introduce a synapse from neuron 1 to neuron 2. We first need to create an object for the synapse of the `Synapse` class which takes three arguments: `gsyn` - maximal conductance, `Esyn` - reversal potential, `r` - gating variable object.\n",
    "\n",
    "The `r` gating variable should derived from the class `HHKinetics` and provides methods `alpha` and `beta` that define the functions $\\alpha_r(V)$ and $\\beta_r(V)$.\n",
    "\n",
    "#### AMPA synapse\n",
    "\n",
    "As an example, let's take a look at implementing an excitatory AMPA synapse. There is an `AMPA` gating kinetics class already provided that takes the values from Ermentrout et al. 2010 that we can use here."
   ]
  },
  {
   "cell_type": "code",
   "execution_count": 23,
   "metadata": {},
   "outputs": [],
   "source": [
    "r = AMPA()\n",
    "gsyn = 0.1\n",
    "Esyn = 65\n",
    "synapse = Synapse(gsyn, Esyn, r)"
   ]
  },
  {
   "cell_type": "markdown",
   "metadata": {},
   "source": []
  },
  {
   "cell_type": "markdown",
   "metadata": {},
   "source": [
    "Having defined the model of the synapse that we would like to use, we now need to define the connectivity matrix describing all of the synaptic connections in the network. For this, we will construct a matrix `syns` where each element of the matrix $(i, j)$ contains a list of all synaptic connections from neuron $j$ to neuron $i$. If there are no synaptic connections from neuron $j$ to neuron $i$, then we set that matrix element to `None`.\n",
    "\n",
    "Since we"
   ]
  },
  {
   "cell_type": "code",
   "execution_count": null,
   "metadata": {},
   "outputs": [],
   "source": []
  }
 ],
 "metadata": {
  "kernelspec": {
   "display_name": "Python 3",
   "language": "python",
   "name": "python3"
  },
  "language_info": {
   "codemirror_mode": {
    "name": "ipython",
    "version": 3
   },
   "file_extension": ".py",
   "mimetype": "text/x-python",
   "name": "python",
   "nbconvert_exporter": "python",
   "pygments_lexer": "ipython3",
   "version": "3.8.5"
  }
 },
 "nbformat": 4,
 "nbformat_minor": 4
}
