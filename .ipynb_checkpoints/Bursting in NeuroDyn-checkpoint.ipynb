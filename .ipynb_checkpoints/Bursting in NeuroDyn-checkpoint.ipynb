{
 "cells": [
  {
   "cell_type": "markdown",
   "metadata": {},
   "source": [
    "# Building more complex models in NeuroDyn\n",
    "\n",
    "## Overview\n",
    "\n",
    "In the \"NeuroDyn model\" notebook we have learned how we can define Hodgkin-Huxley and NeuroDyn models, how to simulate them, as well as how to fit the parameters of the NeuroDyn model in order to replicate the biophysical data of the squid giant axon.\n",
    "\n",
    "Although the forms of the NeuroDyn currents are fixed to the forms of the three currents of the original Hodgkin-Huxley paper, the chip offers full flexibility in defining the dynamics of the gating variables, as well as changing the conductance parameters such as maximal conductances and reversal potentials. This flexibility allows us to use the NeuroDyn equations to replicate different types of neurons. This notebook provides an introduction to understanding how more complex biological neurons can be replicated within the NeuroDyn architecture\n",
    "\n"
   ]
  },
  {
   "cell_type": "markdown",
   "metadata": {},
   "source": [
    "## Neuronal bursting\n",
    "\n",
    "Bursting is one of the fundamental signalling modes of neurons and is ubiquitous in many different types of neurons [ref]. Intrinsic generation of bursts of spikes stems from the interplay of fast processes that generate individual spikes and the slower processes that modulate the spiking behavior and define the burst duration. You can read more about the details of conductance-based modelling of bursting neurons **biophysics notebook**, as well as from a simplified dynamical analysis of reduced neuronal models **iv notebook**.\n",
    "\n",
    "We have seen in the previous notebook how NeuroDyn can be set up to replicate the spiking behavior of the Hodgkin-Huxley model. In contrast, bursting models of neurons are generally more complex, consisting of several additional ionic currents that modulate the slower burst-generating process. These currents are mostly calcium-dependent and act to initiate and terminate the fast spike-generating processes dictated by the sodium and potassium currents.\n",
    "\n",
    "Since we cannot add additional ionic currents to a single NeuroDyn neuron, we can achieve a similar affect by **interconnecting** several NeuroDyn neurons through resistive connections or short circuits."
   ]
  },
  {
   "cell_type": "markdown",
   "metadata": {},
   "source": [
    "## Short-circuiting NeuroDyn neurons"
   ]
  },
  {
   "cell_type": "markdown",
   "metadata": {},
   "source": [
    "Let's try creating a bursting neuron by configuring two NeuroDyn neurons so that the first one provides the fast spike-generating currents, and the second one provides the slow wave-generating currents. We will then short-circuit the two neurons, effectively creating a new neuron with *six* currents ($2x \\ [I_l, I_{Na}, I_K]$).\n",
    "\n",
    "**Remember** that when we short-circuit two neurons like these, the effective membrane capacitance **doubles** due to the parallel interconnection of the membrane capacitors. This effectively doubles the membrane time constant."
   ]
  },
  {
   "cell_type": "markdown",
   "metadata": {},
   "source": [
    "### Load the model\n",
    "\n",
    "First, let's load the model and the required modules:"
   ]
  },
  {
   "cell_type": "code",
   "execution_count": 4,
   "metadata": {},
   "outputs": [],
   "source": [
    "import matplotlib.pyplot as plt\n",
    "from cb_models import HHModel, NeuroDynModel, ShortCircuit\n",
    "\n",
    "# **Ignore overflow warnings**\n",
    "import numpy as np\n",
    "np.warnings.filterwarnings('ignore', 'overflow')"
   ]
  },
  {
   "cell_type": "markdown",
   "metadata": {},
   "source": [
    "Next, let's define two NeuroDyn models with different parameters and short-circuit them:"
   ]
  },
  {
   "cell_type": "code",
   "execution_count": 22,
   "metadata": {},
   "outputs": [
    {
     "data": {
      "image/png": "[encoded data removed]",
      "text/plain": [
       "<Figure size 432x288 with 1 Axes>"
      ]
     },
     "metadata": {
      "needs_background": "light"
     },
     "output_type": "display_data"
    }
   ],
   "source": [
    "# parameters from joe's simulations\n",
    "\n",
    "# Maximal conductances\n",
    "dg1 = np.array([500, 500, 12])\n",
    "dg2 = np.array([500, 500, 0])\n",
    "\n",
    "# Reversal potentials\n",
    "dE1 = np.array([500, -1000, -100])\n",
    "dE2 = np.array([350, -1000, 0])\n",
    "\n",
    "# Sigmoid biases\n",
    "dIb1 = np.array([[0, 0, 0, 0, 1000, 0, 0],\n",
    "                [0, 0, 1000, 0, 0, 0, 0],\n",
    "                [0, 0, 400, 0, 0, 0, 0],\n",
    "                [0, 0, 0, 0, 320, 0, 0],\n",
    "                [0, 0, 0, 0, 320, 0, 0],\n",
    "                [0, 0, 400, 0, 0, 0, 0]])\n",
    "sf = 1.0\n",
    "dIb2 = np.array([[0, 0, 0, 0, 320, 0, 0],\n",
    "                [0, 0, 400, 0, 0, 0, 0],\n",
    "                [0, 0, 400, 0, 0, 0, 0],\n",
    "                [0, 0, 0, 0, 320, 0, 0],\n",
    "                [0, 0, 0, 0, 10//sf, 0, 0],\n",
    "                [0, 0, 10//sf, 0, 0, 0, 0]])\n",
    "\n",
    "# Analog values (same for both)\n",
    "V_ref = 0\n",
    "I_master = 33e-9\n",
    "I_voltage = 230e-9\n",
    "I_ref = 100e-9\n",
    "\n",
    "# Create two neurons with different parameters\n",
    "neuron1 = NeuroDynModel(dg1, dE1, dIb1, V_ref, I_voltage, I_master, I_ref)\n",
    "neuron2 = NeuroDynModel(dg2, dE2, dIb2, V_ref, I_voltage, I_master, I_ref)\n",
    "\n",
    "# Short circuit the neurons\n",
    "bursting_neuron = ShortCircuit([neuron1, neuron2])\n",
    "\n",
    "#bursting_neuron.C_m = bursting_neuron.C_m / 2 # in joe's model the capacitance is not increased\n",
    "\n",
    "I0 = 15e-10\n",
    "Iapp = lambda t: I0\n",
    "\n",
    "T = 0.1\n",
    "trange = (0, T)\n",
    "\n",
    "sol = bursting_neuron.simulate(trange,[0,0,0,0,0,0,0],Iapp)\n",
    "\n",
    "plt.figure()\n",
    "plt.xlabel('t')\n",
    "plt.ylabel('V')\n",
    "plt.title('Bursting neuron simulation')\n",
    "plt.plot(sol.t, sol.y[0])\n",
    "plt.show()"
   ]
  },
  {
   "cell_type": "code",
   "execution_count": null,
   "metadata": {},
   "outputs": [],
   "source": []
  }
 ],
 "metadata": {
  "kernelspec": {
   "display_name": "Python 3",
   "language": "python",
   "name": "python3"
  },
  "language_info": {
   "codemirror_mode": {
    "name": "ipython",
    "version": 3
   },
   "file_extension": ".py",
   "mimetype": "text/x-python",
   "name": "python",
   "nbconvert_exporter": "python",
   "pygments_lexer": "ipython3",
   "version": "3.8.5"
  }
 },
 "nbformat": 4,
 "nbformat_minor": 4
}
