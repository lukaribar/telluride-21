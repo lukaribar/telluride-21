{
 "cells": [
  {
   "cell_type": "markdown",
   "metadata": {},
   "source": [
    "# Designing neuronal networks\n",
    "\n",
    "## Overview\n",
    "\n",
    "This notebook provides a guide to specyfing neural interconnections and designing networks using Hodgkin-Huxley and NeuroDyn models in Python environment."
   ]
  },
  {
   "cell_type": "markdown",
   "metadata": {},
   "source": [
    "## Setting up the environment\n",
    "\n",
    "Let's first import the required Python modules and model definitions:"
   ]
  },
  {
   "cell_type": "code",
   "execution_count": 1,
   "metadata": {},
   "outputs": [],
   "source": [
    "import matplotlib.pyplot as plt\n",
    "from cb_models import HHModel, NeuroDynModel\n",
    "\n",
    "# **Ignore overflow warnings**\n",
    "import numpy as np\n",
    "np.warnings.filterwarnings('ignore', 'overflow')\n",
    "\n",
    "%matplotlib inline\n",
    "%load_ext autoreload\n",
    "%autoreload 2"
   ]
  },
  {
   "cell_type": "markdown",
   "metadata": {},
   "source": [
    "### Neural interconnections\n",
    "\n",
    "There are two main types of neural interconnections that we can implement: gap junctions and synaptic connections. In the conductance-based modelling framework, these interconnections lead to additional currents in the membrane equation of neuron $i$ that are dependent on membrane voltages of other neurons $j$ connected to it:\n",
    "\n",
    "\\begin{equation}\n",
    "C \\dot{V}_i = - I_{int,i} - \\sum_{j} I_{gap, i, j} - \\sum_{j} I_{syn, i, j} + I_{app}\n",
    "\\end{equation}\n",
    "\n",
    "Gap junctions are modeled as simple resistive connections between neurons, so that a resistive connection between neurons $i$ and $j$ leads to a current in neuron $i$:\n",
    "\n",
    "\\begin{equation}\n",
    "I_{gap, i, j} = g_{gap, i, j} (V_j - V_i)\n",
    "\\end{equation}"
   ]
  },
  {
   "cell_type": "code",
   "execution_count": null,
   "metadata": {},
   "outputs": [],
   "source": []
  }
 ],
 "metadata": {
  "kernelspec": {
   "display_name": "Python 3",
   "language": "python",
   "name": "python3"
  },
  "language_info": {
   "codemirror_mode": {
    "name": "ipython",
    "version": 3
   },
   "file_extension": ".py",
   "mimetype": "text/x-python",
   "name": "python",
   "nbconvert_exporter": "python",
   "pygments_lexer": "ipython3",
   "version": "3.8.5"
  }
 },
 "nbformat": 4,
 "nbformat_minor": 4
}
