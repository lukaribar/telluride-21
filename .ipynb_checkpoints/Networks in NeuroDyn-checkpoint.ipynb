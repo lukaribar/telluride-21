{
 "cells": [
  {
   "cell_type": "markdown",
   "metadata": {},
   "source": [
    "# Networks in NeuroDyn\n",
    "\n",
    "## Overview\n",
    "\n",
    "This notebook provides a guide to specyfing neural interconnections and designing networks using Hodgkin-Huxley and NeuroDyn models in Python environment. We first start with an overview of two main types of neural interconnections: gap junctions and synapses, and how to implement them in the software environment. The environment allows defining arbitrary conductance-based models of synapses, and we give an example here using an excitatory AMPA synapse. Networks can be constructed using both the standard Hodgkin-Huxley models as well as NeuroDyn neurons, and the notebook shows how both can be specified. \n",
    "\n",
    "Finally, we introduce two additional classes `NeuroDynBoard` and `NeuroCube` which specify the NeuroDyn hardware structure:\n",
    "- `NeuroDynBoard` is a single NeuroDyn board containing 4 neurons and 12 synapses.\n",
    "- `NeuroCube` is a parallel interconnection of 4 NeuroDyn boards, where the boards are connected through mutural resistive connections."
   ]
  },
  {
   "cell_type": "markdown",
   "metadata": {},
   "source": [
    "## Setting up the environment\n",
    "\n",
    "Let's first import the required Python modules and model definitions:"
   ]
  },
  {
   "cell_type": "code",
   "execution_count": 61,
   "metadata": {},
   "outputs": [
    {
     "name": "stdout",
     "output_type": "stream",
     "text": [
      "The autoreload extension is already loaded. To reload it, use:\n",
      "  %reload_ext autoreload\n"
     ]
    }
   ],
   "source": [
    "import matplotlib.pyplot as plt\n",
    "from cb_models import HHModel, NeuroDynModel, NeuronalNetwork, Synapse, AMPA, AMPASynapse, NDSynapse\n",
    "from fitting_utilities import FitND\n",
    "\n",
    "# **Ignore overflow warnings**\n",
    "import numpy as np\n",
    "np.warnings.filterwarnings('ignore', 'overflow')\n",
    "\n",
    "%matplotlib inline\n",
    "%load_ext autoreload\n",
    "%autoreload 2"
   ]
  },
  {
   "cell_type": "markdown",
   "metadata": {},
   "source": [
    "## Neural interconnections\n",
    "\n",
    "There are two main types of neural interconnections that we can implement: gap junctions and synaptic connections. In the conductance-based modelling framework, these interconnections lead to additional currents in the membrane equation of neuron $i$ that are dependent on membrane voltages of other neurons $j$ connected to it:\n",
    "\n",
    "\\begin{equation}\n",
    "C \\dot{V}_i = - I_{int,i} - \\sum_{j} I_{gap, i, j} - \\sum_{j} I_{syn, i, j} + I_{app}\n",
    "\\end{equation}\n",
    "\n",
    "### Gap junctions\n",
    "\n",
    "Gap junctions are modeled as simple resistive connections between neurons, so that a resistive connection between neurons $i$ and $j$ leads to a current in neuron $i$:\n",
    "\n",
    "\\begin{equation}\n",
    "I_{gap, i, j} = g_{gap, i, j} (V_i - V_j)\n",
    "\\end{equation}\n",
    "\n",
    "Since these interconnections are symmetric $g_{gap, i, j} = g_{gap, j, i}$, so that:\n",
    "\n",
    "\\begin{equation}\n",
    "I_{gap, j, i} = -I_{gap, i, j}\n",
    "\\end{equation}\n",
    "\n",
    "We can represent this as a matrix $G_{gap}$ where each element $g_{gap, i, j}$ is the conductance of the connection between neurons $i$ and $j$. This matrix is necessarily symmetric, i.e. $G_{gap} = G^T_{gap}$.\n",
    "\n",
    "### Synaptic connections\n",
    "\n",
    "Unlike gap junctions, synaptic connections are directed connections and are not symmetric: the activity of the *presynaptic* neuron (neuron $j$) modulates the activity of the *postsynaptic* neuron (neuron $i$). Synaptic currents have a similar form to the internal ionic currents, with the difference that their activation depends on the presynaptic neuron:\n",
    "\n",
    "\\begin{equation}\n",
    "I_{syn, i, j} = \\bar{g}_{syn, i, j} r (V_i - E_{syn}) \\\\\n",
    "\\dot{r} = \\alpha_r(V_j) (1 - r) - \\beta_r{V_i} r\n",
    "\\end{equation}\n",
    "\n",
    "The opening of the channels $\\alpha_r$ depends on the presynaptic neuron's voltage $V_j$, while the closing depends on the postsynaptic neuron's voltage $V_i$ (sometimes this relationship is modeled as constant).\n",
    "\n",
    "The reversal potential of the synapse $E_{syn}$ determines if the synapse is *excitatory* or *inhibitory*: excitatory synapses tend to increase the postsynaptic neuron's voltage, while the inhibitory synapses act to decrease the postynaptic voltage. On the other hand, dynamics of activation $r$ determines the timescale of the synaptic current, i.e. how fast it activates in relation to the changes in the presynaptic neuron."
   ]
  },
  {
   "cell_type": "markdown",
   "metadata": {},
   "source": [
    "## Defining neural interconnections in Python\n",
    "\n",
    "Let's now see how we can define these interconnections in the Python environment. We start with a simple example of two Hodgkin-Huxley neurons, which define as before:"
   ]
  },
  {
   "cell_type": "code",
   "execution_count": 21,
   "metadata": {},
   "outputs": [],
   "source": [
    "neuron1 = HHModel()\n",
    "neuron2 = HHModel()"
   ]
  },
  {
   "cell_type": "markdown",
   "metadata": {},
   "source": [
    "### Gap junctions\n",
    "\n",
    "Let's start with a simple network consisting of a single gap junction between these two neurons with $g_{gap} = 0.1$. We do this by defining the matrix `G_gap` and passing it as a keyword argument along with a list of the neurons to our `NeuronalNetwork` class:"
   ]
  },
  {
   "cell_type": "code",
   "execution_count": 22,
   "metadata": {},
   "outputs": [],
   "source": [
    "neurons = [neuron1, neuron2]\n",
    "G_gap = [[0, 0.1], [0.1, 0]]\n",
    "\n",
    "network = NeuronalNetwork(neurons, gap = G_gap)"
   ]
  },
  {
   "cell_type": "markdown",
   "metadata": {},
   "source": [
    "We simulate the network exactly as before by calling the method `simulate`. This time, the applied current function needs to return an array of external currents corresponding to each neuron in the `neurons` list. Additionally, we need to make sure that the initial condition array `x0` has the right number of states:"
   ]
  },
  {
   "cell_type": "code",
   "execution_count": 23,
   "metadata": {},
   "outputs": [
    {
     "data": {
      "image/png": "[encoded data removed]",
      "text/plain": [
       "<Figure size 432x288 with 1 Axes>"
      ]
     },
     "metadata": {
      "needs_background": "light"
     },
     "output_type": "display_data"
    }
   ],
   "source": [
    "# Simulation time\n",
    "T = 200\n",
    "trange = (0, T)\n",
    "\n",
    "# External current\n",
    "I1 = 0 # current to neuron 1\n",
    "I2 = 0 # current to neuron 2\n",
    "Iapp = lambda t: [I1, I2]\n",
    "\n",
    "# Initial condition\n",
    "x0 = [0, 0, 0, 0] * 2\n",
    "\n",
    "# Simulate\n",
    "sol = network.simulate(trange, x0, Iapp)\n",
    "V1 = sol.y[0]\n",
    "V2 = sol.y[4]\n",
    "\n",
    "plt.figure()\n",
    "plt.plot(sol.t, V1, label = \"Neuron 1\")\n",
    "plt.plot(sol.t, V2, label = \"Neuron 2\")\n",
    "plt.legend()\n",
    "plt.show()\n"
   ]
  },
  {
   "cell_type": "markdown",
   "metadata": {},
   "source": [
    "### Synaptic connections\n",
    "\n",
    "Let's now see how we can introduce a synapse from neuron 1 to neuron 2. We first need to create an object for the synapse of the `Synapse` class which takes three arguments: `gsyn` - maximal conductance, `Esyn` - reversal potential, `r` - gating variable object.\n",
    "\n",
    "The `r` gating variable should derived from the class `HHKinetics` and provides methods `alpha` and `beta` that define the functions $\\alpha_r(V)$ and $\\beta_r(V)$.\n",
    "\n",
    "#### AMPA synapse\n",
    "\n",
    "As an example, let's take a look at implementing an excitatory AMPA synapse. There is an `AMPA` gating kinetics class already provided that takes the values from Ermentrout et al. 2010 that we can use here."
   ]
  },
  {
   "cell_type": "code",
   "execution_count": 24,
   "metadata": {},
   "outputs": [],
   "source": [
    "r = AMPA()\n",
    "gsyn = 0.05\n",
    "Esyn = 65\n",
    "synapse = Synapse(gsyn, Esyn, r)"
   ]
  },
  {
   "cell_type": "markdown",
   "metadata": {},
   "source": [
    "Since a synapse is defined by its reversal potential $E_{syn}$ and the gating variable kinetics $r$, we can group these steps into a single synapse object. In this case, a `AMPASynapse` class is defined that only takes a single argument $g_{syn}$ and does the same steps as previously:"
   ]
  },
  {
   "cell_type": "code",
   "execution_count": 25,
   "metadata": {},
   "outputs": [],
   "source": [
    "synapse = AMPASynapse(gsyn)"
   ]
  },
  {
   "cell_type": "markdown",
   "metadata": {},
   "source": [
    "Having defined the model of the synapse that we would like to use, we now need to define the connectivity matrix describing all of the synaptic connections in the network. For this, we will construct a matrix `syns` where each element of the matrix $(i, j)$ contains a list of all synaptic connections from neuron $j$ to neuron $i$. If there are no synaptic connections from neuron $j$ to neuron $i$, then we set that matrix element to `None`.\n",
    "\n",
    "Since we would like to define a single excitatory synapse from neuron 1 to neuron 2, we will put a single AMPASynapse object into a list at position (1, 0), filling the rest of the matrix with `None`. Let's create a new network with the single excitatory synapse and simulate it:"
   ]
  },
  {
   "cell_type": "code",
   "execution_count": 26,
   "metadata": {},
   "outputs": [
    {
     "data": {
      "image/png": "[encoded data removed]",
      "text/plain": [
       "<Figure size 432x288 with 1 Axes>"
      ]
     },
     "metadata": {
      "needs_background": "light"
     },
     "output_type": "display_data"
    }
   ],
   "source": [
    "syns = [[None, None], [[synapse], None]]\n",
    "\n",
    "network = NeuronalNetwork(neurons, syns = syns)\n",
    "\n",
    "# Simulation time\n",
    "T = 200\n",
    "trange = (0, T)\n",
    "\n",
    "# External current\n",
    "I1 = 15 # current to neuron 1\n",
    "I2 = 0 # current to neuron 2\n",
    "Iapp = lambda t: [I1, I2]\n",
    "\n",
    "# Initial condition\n",
    "x0 = [0, 0, 0, 0] * 2 + [0] # extra state due to synapse\n",
    "\n",
    "# Simulate\n",
    "sol = network.simulate(trange, x0, Iapp)\n",
    "V1 = sol.y[0]\n",
    "V2 = sol.y[4]\n",
    "\n",
    "plt.figure()\n",
    "plt.plot(sol.t, V1, label = \"Neuron 1\")\n",
    "plt.plot(sol.t, V2, label = \"Neuron 2\")\n",
    "plt.legend()\n",
    "plt.show()"
   ]
  },
  {
   "cell_type": "markdown",
   "metadata": {},
   "source": [
    "## NeuroDyn network\n",
    "\n",
    "Let's now see how we can do the same using NeuroDyn models for the individual neurons, as well as the synapses.\n",
    "\n",
    "### NeuroDyn synapse\n",
    "\n",
    "A synaptic connection in the NeuroDyn hardware is implemented in very much the same way as ionic conductance dynamics was for a single neuron (see \"NeuroDyn equations\" section in NeuroDyn model notebook). Therefore, a synapse will be defined the following digital parameters:\n",
    "\n",
    "- `dg`: digital value for the maximal conductance\n",
    "- `dE`: digital value for the reversal potential\n",
    "- `dIb`: digital values for the alpha and beta spline functions\n",
    "    - `dIb` is a list containing `[dIalpha, dIbeta]`\n",
    "    - each `dIalpha` and `dIbeta` is an array of 7 digital values for the spline coefficients\n",
    "    \n",
    "In order to find these digital values we can again try fitting the parameters so that they replicate a particular biophysical synapse. As an example, let's try fitting the parameters to the AMPA synapse of the previous section.\n",
    "\n",
    "### Fitting a synapse\n",
    "\n",
    "In order to fit a synapse model, we can again use the class `FitND` that we have previously used to fit a Hodgkin-Huxley model to a NeuroDyn neuron. We first fit an appropriate Hodgkin-Huxley model as before, after which we can pass any other gating variables that we would like to fit to. In this case, we want to fit the AMPA gating variable.\n",
    "\n",
    "First, let's repeat the procedure of fitting a NeuroDyn neuron as before:"
   ]
  },
  {
   "cell_type": "code",
   "execution_count": 55,
   "metadata": {},
   "outputs": [],
   "source": [
    "# Fit Hodgkin-Huxley model\n",
    "\n",
    "scl_v = 3 # voltage scaling\n",
    "\n",
    "# Hodgkin-Huxley model we want to fit to\n",
    "hh_neuron = HHModel(scl_v = scl_v, SI_units = True)\n",
    "\n",
    "# Create a fitting object and obtain the initial fit\n",
    "fit_obj = FitND(hh_neuron)\n",
    "\n",
    "weights = fit_obj.fit()\n",
    "\n",
    "g0 = [120e-3,36e-3,0.3e-3] # maximal conductances\n",
    "E0 = [120e-3,-12e-3,10.6e-3] # reversal potentials\n",
    "\n",
    "dIb, dg, dE = fit_obj.quantize(weights, g0, E0)\n",
    "dIb[2][1] = dIb[2][1]*15\n",
    "\n",
    "I_master = fit_obj.I_master\n",
    "I_voltage = fit_obj.I_voltage\n",
    "\n",
    "V_ref = 0.9\n",
    "\n",
    "ND = NeuroDynModel(dg, dE, dIb, V_ref, I_voltage, I_master)"
   ]
  },
  {
   "cell_type": "markdown",
   "metadata": {},
   "source": [
    "Now, let's do the same procedure in order to get the parameters for an AMPA synapse. We first make an AMPA gating variable (remember that it needs to be scaled appropriately!), which we will pass to the `fit` method."
   ]
  },
  {
   "cell_type": "code",
   "execution_count": 59,
   "metadata": {},
   "outputs": [
    {
     "data": {
      "image/png": "[encoded data removed]",
      "text/plain": [
       "<Figure size 432x288 with 1 Axes>"
      ]
     },
     "metadata": {
      "needs_background": "light"
     },
     "output_type": "display_data"
    },
    {
     "data": {
      "image/png": "[encoded data removed]",
      "text/plain": [
       "<Figure size 432x288 with 1 Axes>"
      ]
     },
     "metadata": {
      "needs_background": "light"
     },
     "output_type": "display_data"
    }
   ],
   "source": [
    "# Fit AMPA gating variable\n",
    "r = AMPA(scl_v = scl_v, SI_units = True)\n",
    "\n",
    "# Fit weights to AMPA\n",
    "weights = fit_obj.fit([r], plot_alpha_beta = True) # note that gating variables are passed in a list"
   ]
  },
  {
   "cell_type": "markdown",
   "metadata": {},
   "source": [
    "Having obtained the weights for the gating variable kinetics, we can then get the digital parameters for the maximal conductance and the reversal potential of the synapse, and use that to create an `NDSynapse` object. Apart from the maximal conductance, reversal potential, and the gating variable, the `NDSynapse` object also accepts a reference to a NeuroDyn object from which it takes physical constants and currents $I_{voltage}$ and $I_{master}$."
   ]
  },
  {
   "cell_type": "code",
   "execution_count": 73,
   "metadata": {},
   "outputs": [],
   "source": [
    "g = 0.3e-3 # max coductance of the synapse\n",
    "E = 65e-3 # reversal potential of the synapse\n",
    "dIb, dg, dE = fit_obj.quantize(weights, g, E)\n",
    "dIb = dIb[0]\n",
    "\n",
    "syn = NDSynapse(dg, dE, dIb, ND)"
   ]
  },
  {
   "cell_type": "markdown",
   "metadata": {},
   "source": [
    "### Creating a network\n",
    "\n",
    "\n"
   ]
  },
  {
   "cell_type": "markdown",
   "metadata": {},
   "source": [
    "## NeuroDyn board"
   ]
  },
  {
   "cell_type": "code",
   "execution_count": null,
   "metadata": {},
   "outputs": [],
   "source": []
  },
  {
   "cell_type": "code",
   "execution_count": null,
   "metadata": {},
   "outputs": [],
   "source": []
  }
 ],
 "metadata": {
  "kernelspec": {
   "display_name": "Python 3",
   "language": "python",
   "name": "python3"
  },
  "language_info": {
   "codemirror_mode": {
    "name": "ipython",
    "version": 3
   },
   "file_extension": ".py",
   "mimetype": "text/x-python",
   "name": "python",
   "nbconvert_exporter": "python",
   "pygments_lexer": "ipython3",
   "version": "3.8.5"
  }
 },
 "nbformat": 4,
 "nbformat_minor": 4
}
